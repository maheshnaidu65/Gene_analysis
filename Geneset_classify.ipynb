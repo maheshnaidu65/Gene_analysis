{
 "cells": [
  {
   "cell_type": "code",
   "execution_count": 4,
   "metadata": {},
   "outputs": [],
   "source": [
    "import itertools\n",
    "import pandas as pd\n",
    "import numpy as np\n",
    "from sklearn.discriminant_analysis import LinearDiscriminantAnalysis\n",
    "from sklearn import neighbors\n",
    "from sklearn.preprocessing import StandardScaler\n",
    "from sklearn import metrics\n",
    "from sklearn import svm\n",
    "from sklearn.neural_network import MLPClassifier"
   ]
  },
  {
   "cell_type": "code",
   "execution_count": 5,
   "metadata": {},
   "outputs": [],
   "source": [
    "training = pd.read_table(r'Training_Data.txt')\n",
    "n=training.columns"
   ]
  },
  {
   "cell_type": "code",
   "execution_count": 6,
   "metadata": {},
   "outputs": [],
   "source": [
    "testing = pd.read_table(r'Testing_Data.txt')"
   ]
  },
  {
   "cell_type": "code",
   "execution_count": 4,
   "metadata": {},
   "outputs": [],
   "source": [
    "feature_raw = np.array(training.iloc[:,1:71])\n",
    "output_raw = np.array(training.iloc[:,-1])\n",
    "feature_test = np.array(testing.iloc[:,1:71])\n",
    "output_test = np.array(testing.iloc[:,-1])"
   ]
  },
  {
   "cell_type": "code",
   "execution_count": 5,
   "metadata": {},
   "outputs": [
    {
     "data": {
      "text/plain": [
       "120"
      ]
     },
     "execution_count": 5,
     "metadata": {},
     "output_type": "execute_result"
    }
   ],
   "source": [
    "len(feature_raw)"
   ]
  },
  {
   "cell_type": "code",
   "execution_count": 6,
   "metadata": {},
   "outputs": [],
   "source": [
    "feature_size = 2\n",
    "def findsubsets(S,m):\n",
    "    return set(itertools.combinations(S, m))"
   ]
  },
  {
   "cell_type": "code",
   "execution_count": 7,
   "metadata": {},
   "outputs": [],
   "source": [
    "feature_space = findsubsets(range(0,70),feature_size) # generating all possible combinations of features in the feature space)\n",
    "feature_space = np.array(list(feature_space)) "
   ]
  },
  {
   "cell_type": "code",
   "execution_count": 9,
   "metadata": {},
   "outputs": [
    {
     "name": "stdout",
     "output_type": "stream",
     "text": [
      "2415\n"
     ]
    }
   ],
   "source": [
    "print(len(feature_space))"
   ]
  },
  {
   "cell_type": "code",
   "execution_count": 27,
   "metadata": {},
   "outputs": [],
   "source": [
    "b=[]\n",
    "for i in feature_space:\n",
    "    x = feature_raw[:,i].reshape((feature_raw.shape[0],feature_size))\n",
    "    #classifier= LinearDiscriminantAnalysis(priors=[0.25,0.75])\n",
    "    classifier = svm.SVC(kernel='linear',C=1.0,random_state=0)\n",
    "    #classifier= MLPClassifier(solver='lbfgs',hidden_layer_sizes=(5,),random_state=0)\n",
    "    #classifier = svm.SVC(kernel='rbf',C=1.0,random_state=0)\n",
    "\n",
    "    #Learning\n",
    "    classifier.fit(x,output_raw)\n",
    "    a=classifier.score(x, output_raw)\n",
    "    b.append(1-a)"
   ]
  },
  {
   "cell_type": "code",
   "execution_count": 30,
   "metadata": {},
   "outputs": [
    {
     "name": "stdout",
     "output_type": "stream",
     "text": [
      "0.258333333333\n",
      "1909\n",
      "[59 63]\n"
     ]
    }
   ],
   "source": [
    "b=np.array(b)\n",
    "error_estimate=min(b)\n",
    "print(error_estimate)\n",
    "index = np.argmin(b)\n",
    "print(index)\n",
    "print(feature_space[index])"
   ]
  },
  {
   "cell_type": "code",
   "execution_count": 56,
   "metadata": {},
   "outputs": [
    {
     "data": {
      "text/plain": [
       "SVC(C=1.0, cache_size=200, class_weight=None, coef0=0.0,\n",
       "  decision_function_shape='ovr', degree=3, gamma='auto', kernel='linear',\n",
       "  max_iter=-1, probability=False, random_state=0, shrinking=True,\n",
       "  tol=0.001, verbose=False)"
      ]
     },
     "execution_count": 56,
     "metadata": {},
     "output_type": "execute_result"
    }
   ],
   "source": [
    "ip_optimal = feature_raw[:,feature_space[index]].reshape((feature_raw.shape[0],feature_size))\n",
    "#classifier_optimal= LinearDiscriminantAnalysis(priors=[0.25,0.75])\n",
    "classifier_optimal= svm.SVC(kernel='linear',C=1.0,random_state=0)\n",
    "#classifier_optimal= MLPClassifier(solver='lbfgs',hidden_layer_sizes=(5,),random_state=0)\n",
    "#classifier_optimal= svm.SVC(kernel='rbf',C=1.0,random_state=0)\n",
    "#Learning\n",
    "classifier_optimal.fit(ip_optimal,output_raw)\n"
   ]
  },
  {
   "cell_type": "code",
   "execution_count": 57,
   "metadata": {},
   "outputs": [
    {
     "name": "stdout",
     "output_type": "stream",
     "text": [
      "0.26857142857142857\n"
     ]
    }
   ],
   "source": [
    "x = feature_test[:,feature_space[index]].reshape((feature_test.shape[0],feature_size))\n",
    "output_pred = classifier_optimal.predict(x)\n",
    "acc = float((output_test == output_pred).sum()) / output_pred.shape[0]\n",
    "testset_error=1-acc\n",
    "print(testset_error)"
   ]
  },
  {
   "cell_type": "code",
   "execution_count": null,
   "metadata": {},
   "outputs": [],
   "source": []
  }
 ],
 "metadata": {
  "kernelspec": {
   "display_name": "Python 3",
   "language": "python",
   "name": "python3"
  },
  "language_info": {
   "codemirror_mode": {
    "name": "ipython",
    "version": 3
   },
   "file_extension": ".py",
   "mimetype": "text/x-python",
   "name": "python",
   "nbconvert_exporter": "python",
   "pygments_lexer": "ipython3",
   "version": "3.6.3"
  }
 },
 "nbformat": 4,
 "nbformat_minor": 2
}
